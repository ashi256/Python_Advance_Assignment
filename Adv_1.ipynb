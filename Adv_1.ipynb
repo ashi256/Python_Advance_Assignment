{
 "cells": [
  {
   "cell_type": "code",
   "execution_count": null,
   "metadata": {},
   "outputs": [],
   "source": [
    "#1\n",
    "it aims to implement real world entities like inheritance,polymorphism,encapsulation"
   ]
  },
  {
   "cell_type": "code",
   "execution_count": null,
   "metadata": {},
   "outputs": [],
   "source": [
    "#2\n",
    "the inheritance search is simply a search of the tree from bottom to top looking for the lowest occurrence of an attribute name."
   ]
  },
  {
   "cell_type": "code",
   "execution_count": null,
   "metadata": {},
   "outputs": [],
   "source": [
    "#3\n",
    "The class = the blue print. The Object is an actual thing that is built \n",
    "based on the 'blue print' (like the house). An instance is a virtual copy \n",
    "(but not a real copy) of the object.\n",
    "Object is a copy of the class. Instance is a variable that holds the memory \n",
    "address of the object."
   ]
  },
  {
   "cell_type": "code",
   "execution_count": null,
   "metadata": {},
   "outputs": [],
   "source": [
    "#4\n",
    "'self' or any name of the variable,the first argument act as a pointer,\n",
    "it represent instance of the class"
   ]
  },
  {
   "cell_type": "code",
   "execution_count": null,
   "metadata": {},
   "outputs": [],
   "source": [
    "#5\n",
    "init method is used to initalize the class variables"
   ]
  },
  {
   "cell_type": "code",
   "execution_count": null,
   "metadata": {},
   "outputs": [],
   "source": [
    "#6\n",
    "when create a class instance we are \"instantiating(represent) a class\" so as to \n",
    "access attributes(data and method) of the class\n",
    "class abcd:\n",
    "    pass\n",
    "obj=abcd()"
   ]
  },
  {
   "cell_type": "code",
   "execution_count": null,
   "metadata": {},
   "outputs": [],
   "source": [
    "#7\n",
    "Classes are used to create and manage new objects and support inheritance\n",
    "process:-\n",
    "Create a Class. To create a class, use the keyword class : name_of_class\n",
    "Create Object. Now we can use the class named MyClass to create objects: object_name\n",
    "The self Parameter. \n",
    "Modify Object Properties. \n",
    "Delete Object Properties. \n",
    "Delete Objects."
   ]
  },
  {
   "cell_type": "code",
   "execution_count": null,
   "metadata": {},
   "outputs": [],
   "source": [
    "#8\n",
    "a superclass whose properties and behaviour will be inherited by many subclasses"
   ]
  }
 ],
 "metadata": {
  "kernelspec": {
   "display_name": "Python 3",
   "language": "python",
   "name": "python3"
  },
  "language_info": {
   "codemirror_mode": {
    "name": "ipython",
    "version": 3
   },
   "file_extension": ".py",
   "mimetype": "text/x-python",
   "name": "python",
   "nbconvert_exporter": "python",
   "pygments_lexer": "ipython3",
   "version": "3.8.5"
  }
 },
 "nbformat": 4,
 "nbformat_minor": 4
}
