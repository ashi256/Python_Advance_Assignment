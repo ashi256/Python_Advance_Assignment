{
 "cells": [
  {
   "cell_type": "code",
   "execution_count": null,
   "metadata": {},
   "outputs": [],
   "source": [
    "#1\n",
    "A class is used to define a blueprint for a given object, whereas a module is \n",
    "used to reuse a given piece of code inside another program.\n",
    "\n",
    "class can be instantiated where as modules can't\n",
    "\n",
    "class keyword is used to define a class where to use a module \n",
    "we need import keyword\n",
    "\n",
    "Modules are files present inside a package, whereas a class is used to \n",
    "encapsulate data and functions together inside the same unit."
   ]
  },
  {
   "cell_type": "code",
   "execution_count": null,
   "metadata": {},
   "outputs": [],
   "source": [
    "#2\n",
    "classes -\n",
    "class abcd:\n",
    "    pass\n",
    "instances-\n",
    "obj=abcd()"
   ]
  },
  {
   "cell_type": "code",
   "execution_count": 2,
   "metadata": {},
   "outputs": [
    {
     "name": "stdout",
     "output_type": "stream",
     "text": [
      "1\n",
      "2\n"
     ]
    }
   ],
   "source": [
    "#3\n",
    "#class attributes should be created inside a class,at the top\n",
    "#these attributes are shared by objects\n",
    "class abcd:\n",
    "    c=0\n",
    "    def co(self):\n",
    "        abcd.c+=1\n",
    "cc=abcd()\n",
    "cc.co()\n",
    "print(cc.c)\n",
    "ccc=abcd()\n",
    "ccc.co()\n",
    "print(ccc.c)"
   ]
  },
  {
   "cell_type": "code",
   "execution_count": 6,
   "metadata": {},
   "outputs": [
    {
     "name": "stdout",
     "output_type": "stream",
     "text": [
      "1   4\n",
      "1   4\n"
     ]
    }
   ],
   "source": [
    "#4\n",
    "#instance attributes are not sharable, every object have its own copy of attribute\n",
    "class abcd:\n",
    "    def __init__(self):\n",
    "        self.a=5\n",
    "        self.b=4\n",
    "    def show(self):\n",
    "        self.a=+1\n",
    "        self.a=+1\n",
    "        print(self.a,\" \",self.b)\n",
    "cc=abcd()\n",
    "cc.show()\n",
    "ccc=abcd()\n",
    "ccc.show()"
   ]
  },
  {
   "cell_type": "code",
   "execution_count": null,
   "metadata": {},
   "outputs": [],
   "source": [
    "#5\n",
    "self act a pointer,it represent object of the class"
   ]
  },
  {
   "cell_type": "code",
   "execution_count": 10,
   "metadata": {},
   "outputs": [
    {
     "name": "stdout",
     "output_type": "stream",
     "text": [
      "['aabb', 'aacc', 'aadd']\n",
      "['aabb', 'aacc']\n"
     ]
    }
   ],
   "source": [
    "#6\n",
    "class order:\n",
    "    def __init__(self,cart,cust):\n",
    "        self.cart=cart\n",
    "        self.cust=cust\n",
    "    def __add__(self,other):\n",
    "        new_cart = self.cart.copy()\n",
    "        new_cart.append(other)\n",
    "        return order(new_cart,self.cust)\n",
    "o = order([\"aabb\",\"aacc\"],\"ayu\")\n",
    "print((o+\"aadd\").cart)#changed\n",
    "print(o.cart)#unchanged"
   ]
  },
  {
   "cell_type": "code",
   "execution_count": null,
   "metadata": {},
   "outputs": [],
   "source": [
    "#7\n",
    "Operator Overloading means giving extended meaning beyond their predefined operational meaning. \n",
    "For example operator + is used to add two integers as well as join two strings and merge two lists. \n",
    "It is achievable because '+' operator is overloaded by int class and str class"
   ]
  },
  {
   "cell_type": "code",
   "execution_count": null,
   "metadata": {},
   "outputs": [],
   "source": [
    "#8\n",
    "A very popular and convenient example is the Addition (+) operator. "
   ]
  },
  {
   "cell_type": "code",
   "execution_count": null,
   "metadata": {},
   "outputs": [],
   "source": [
    "#9\n",
    "two most difficult and importanat concepts is inhertiance and ploymorphism"
   ]
  }
 ],
 "metadata": {
  "kernelspec": {
   "display_name": "Python 3",
   "language": "python",
   "name": "python3"
  },
  "language_info": {
   "codemirror_mode": {
    "name": "ipython",
    "version": 3
   },
   "file_extension": ".py",
   "mimetype": "text/x-python",
   "name": "python",
   "nbconvert_exporter": "python",
   "pygments_lexer": "ipython3",
   "version": "3.8.5"
  }
 },
 "nbformat": 4,
 "nbformat_minor": 4
}
